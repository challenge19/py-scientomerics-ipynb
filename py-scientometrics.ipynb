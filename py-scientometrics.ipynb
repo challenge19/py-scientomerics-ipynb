{
 "cells": [
  {
   "cell_type": "markdown",
   "metadata": {},
   "source": [
    "利用Python进行科学计量分析和可视化\n",
    "===\n",
    "\n",
    "**该notebook将介绍如何利用python及相应得程序包进行科学计量分析和可视化**\n",
    "## 基础准备\n",
    "\n",
    "### 科学计量学\n",
    "\n",
    "### 数据分析和可视化包\n",
    "主要涉及的程序根据其主要功能可分为**数据分析**和**可视化**，但某些会同时包含这两个功能。\n",
    "\n",
    "#### 数据分析\n",
    "- numpy：基于矩阵（数组）的科学计算包\n",
    "- scipy：科学计算包\n",
    "- statsmodels：统计分析包\n",
    "- pandas：数据结构和分析包，提供方便的基于DataFrame的数据操作\n",
    "- sklearn：数据分析和机器学习包\n",
    "- [metaknowledge](http://networkslab.org/metaknowledge/)：文献计量分析包，可直接读取WoS下载的原始文件并解析\n",
    "- networkx：网络分析包，提供常见的社会网络分析；与之类似的还有igraph\n",
    "\n",
    "#### 可视化\n",
    "- matplotlib：python下的基本绘图包，许多其它绘图包都基于此\n",
    "- seaborn：结合pandas的统计可视化包，提供方便的统计分析绘图\n",
    "- plotly：提供方便的交互图表，对科学绘图也比较友好\n",
    "- bokeh：基于D3的绘图工具，提供交互式图表，可定制dashboard\n",
    "- pyecharts：提供基于echarts的交互图表绘图"
   ]
  },
  {
   "cell_type": "code",
   "execution_count": null,
   "metadata": {},
   "outputs": [],
   "source": []
  }
 ],
 "metadata": {
  "kernelspec": {
   "display_name": "Python 3",
   "language": "python",
   "name": "python3"
  },
  "language_info": {
   "codemirror_mode": {
    "name": "ipython",
    "version": 3
   },
   "file_extension": ".py",
   "mimetype": "text/x-python",
   "name": "python",
   "nbconvert_exporter": "python",
   "pygments_lexer": "ipython3",
   "version": "3.6.3"
  },
  "toc": {
   "base_numbering": 1,
   "nav_menu": {},
   "number_sections": true,
   "sideBar": true,
   "skip_h1_title": true,
   "title_cell": "Table of Contents",
   "title_sidebar": "Contents",
   "toc_cell": false,
   "toc_position": {},
   "toc_section_display": true,
   "toc_window_display": true
  }
 },
 "nbformat": 4,
 "nbformat_minor": 2
}
