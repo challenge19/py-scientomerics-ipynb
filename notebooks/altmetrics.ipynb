{
 "cells": [
  {
   "cell_type": "markdown",
   "metadata": {},
   "source": [
    "Examples of Altmetrics\n",
    "===\n",
    "\n",
    "[Altmetrics](https://en.wikipedia.org/wiki/Altmetrics) are a very broad group of metrics, capturing various parts of impact a paper or work can have. A classification of altmetrics was proposed by ImpactStory in September 2012, and a very similar classification is used by the Public Library of Science:\n",
    "\n",
    "- Viewed - HTML views and PDF downloads\n",
    "- Discussed - journal comments, science blogs, Wikipedia, Twitter, Facebook and other social media\n",
    "- Saved - Mendeley, CiteULike and other social bookmarks\n",
    "- Cited - citations in the scholarly literature, tracked by Web of Science, Scopus, CrossRef and others\n",
    "- Recommended - for example used by F1000Prime\n",
    "\n",
    "\n",
    "这里主要介绍[Altmetric](https://www.altmetric.com/)数据的获得。\n",
    "\n",
    "\n",
    "Altmetric提供API供获取相关数据，包含的数据可[参考](https://docs.google.com/spreadsheets/d/1ndVY8Q2LOaZO_P_HDmSQulagjeUrS250mAL2N5V8GvY/edit#gid=0)\n",
    "\n",
    "同时有\n",
    "- python:[pyAltmetric](https://github.com/wearp/pyaltmetric)\n",
    "- R: [rAltmetric](https://cran.r-project.org/web/packages/rAltmetric/rAltmetric.pdf)\n",
    "\n",
    "等程序包对API进行了封装，方便使用。"
   ]
  },
  {
   "cell_type": "markdown",
   "metadata": {},
   "source": [
    "## pyAltmetric使用示例\n",
    "\n",
    "可通过如下命令安装pyAltmetric\n",
    "```python\n",
    "pip install pyaltmetric\n",
    "```"
   ]
  },
  {
   "cell_type": "code",
   "execution_count": 2,
   "metadata": {},
   "outputs": [],
   "source": [
    "from pyaltmetric import Altmetric\n",
    "import pandas as pd"
   ]
  },
  {
   "cell_type": "code",
   "execution_count": 3,
   "metadata": {},
   "outputs": [],
   "source": [
    "# 初始化\n",
    "a = Altmetric()"
   ]
  },
  {
   "cell_type": "markdown",
   "metadata": {},
   "source": [
    "可通过多种方式获得相关信息，成功获得的信息将以python字典返回\n",
    "```python\n",
    "a.id(\"241939\")\n",
    "a.doi(\"10.1038/news.2011.490\")\n",
    "a.pmid(\"21148220\")\n",
    "a.arxiv(\"1108.2455\")\n",
    "a.ads(\"2012apphl.100y3104b\")\n",
    "```"
   ]
  },
  {
   "cell_type": "code",
   "execution_count": 4,
   "metadata": {},
   "outputs": [
    {
     "data": {
      "text/plain": [
       "{'abstract': \"To determine whether the author's 20.9 lb (9.5 kg) carbon frame bicycle reduced commuting time compared with his 29.75 lb (13.5 kg) steel frame bicycle.\",\n",
       " 'abstract_source': 'pubmed',\n",
       " 'added_on': 1314027346,\n",
       " 'altmetric_id': 242668,\n",
       " 'altmetric_jid': '4f6fa4e93cf058f61000245c',\n",
       " 'authors': ['J Groves'],\n",
       " 'cited_by_accounts_count': 179,\n",
       " 'cited_by_fbwalls_count': 5,\n",
       " 'cited_by_feeds_count': 7,\n",
       " 'cited_by_gplus_count': 3,\n",
       " 'cited_by_posts_count': 191,\n",
       " 'cited_by_qna_count': 2,\n",
       " 'cited_by_tweeters_count': 162,\n",
       " 'cohorts': {'com': 4, 'doc': 11, 'pub': 137, 'sci': 8},\n",
       " 'context': {'all': {'count': 11645256,\n",
       "   'higher_than': 11595206,\n",
       "   'mean': 7.4230165154692,\n",
       "   'pct': 99,\n",
       "   'rank': 50245},\n",
       "  'journal': {'count': 39140,\n",
       "   'higher_than': 38245,\n",
       "   'mean': 26.409663353688,\n",
       "   'pct': 97,\n",
       "   'rank': 895},\n",
       "  'similar_age_3m': {'count': 91257,\n",
       "   'higher_than': 91017,\n",
       "   'mean': 6.3294604409573,\n",
       "   'pct': 99,\n",
       "   'rank': 240},\n",
       "  'similar_age_journal_3m': {'count': 607,\n",
       "   'higher_than': 602,\n",
       "   'mean': 10.935501650165,\n",
       "   'pct': 99,\n",
       "   'rank': 5}},\n",
       " 'details_url': 'http://www.altmetric.com/details.php?citation_id=242668',\n",
       " 'doi': '10.1136/bmj.c6801',\n",
       " 'handles': [],\n",
       " 'history': {'1d': 0,\n",
       "  '1m': 0,\n",
       "  '1w': 0,\n",
       "  '1y': 13.05,\n",
       "  '2d': 0,\n",
       "  '3d': 0,\n",
       "  '3m': 0,\n",
       "  '4d': 0,\n",
       "  '5d': 0,\n",
       "  '6d': 0,\n",
       "  '6m': 3,\n",
       "  'at': 201.612},\n",
       " 'images': {'large': 'https://badges.altmetric.com/?size=180&score=202&types=qbttttfg',\n",
       "  'medium': 'https://badges.altmetric.com/?size=100&score=202&types=qbttttfg',\n",
       "  'small': 'https://badges.altmetric.com/?size=64&score=202&types=qbttttfg'},\n",
       " 'is_oa': False,\n",
       " 'isbns': [],\n",
       " 'issns': ['1468-5833', '1756-1833', '0959-8138'],\n",
       " 'journal': 'British Medical Journal',\n",
       " 'last_updated': 1527029801,\n",
       " 'pmc': 'PMC2999990',\n",
       " 'pmid': '21148220',\n",
       " 'published_on': 1262304000,\n",
       " 'publisher_subjects': [{'name': 'Public Health And Health Services',\n",
       "   'scheme': 'era'}],\n",
       " 'readers': {'citeulike': 0, 'connotea': 0, 'mendeley': 47},\n",
       " 'readers_count': 47,\n",
       " 'schema': '1.5.4',\n",
       " 'scopus_subjects': ['Medicine', 'Health Sciences'],\n",
       " 'score': 201.612,\n",
       " 'subjects': ['medicine'],\n",
       " 'title': 'Bicycle weight and commuting time: randomised trial',\n",
       " 'tq': ['Waarom een dure lichtgewicht race fiets kopen als je ook zelf kunt afvallen....Toine Mudde #VK #TDF2015',\n",
       "  'Cyclists read this! Wonderful. Bicycle weight and commuting time: randomised trial BMJ',\n",
       "  \"Interesting study: 'A lighter bicycle did not lead to a detectable difference in commuting time.' #weightweenies\",\n",
       "  'A must read for cyclists! Bicycle weight and commuting time: randomised trial #science #fun #cycling',\n",
       "  'Para los bicianoréxicos: Estudio demuestra que una bici liviana no hace diferencia en tiempo de traslado urbano'],\n",
       " 'type': 'article',\n",
       " 'url': 'http://dx.doi.org/10.1136/bmj.c6801'}"
      ]
     },
     "execution_count": 4,
     "metadata": {},
     "output_type": "execute_result"
    }
   ],
   "source": [
    "a.pmid(\"21148220\")"
   ]
  },
  {
   "cell_type": "code",
   "execution_count": null,
   "metadata": {},
   "outputs": [],
   "source": []
  }
 ],
 "metadata": {
  "kernelspec": {
   "display_name": "Python 3",
   "language": "python",
   "name": "python3"
  },
  "language_info": {
   "codemirror_mode": {
    "name": "ipython",
    "version": 3
   },
   "file_extension": ".py",
   "mimetype": "text/x-python",
   "name": "python",
   "nbconvert_exporter": "python",
   "pygments_lexer": "ipython3",
   "version": "3.6.3"
  },
  "toc": {
   "base_numbering": 1,
   "nav_menu": {},
   "number_sections": true,
   "sideBar": true,
   "skip_h1_title": true,
   "title_cell": "Table of Contents",
   "title_sidebar": "Contents",
   "toc_cell": false,
   "toc_position": {},
   "toc_section_display": true,
   "toc_window_display": true
  }
 },
 "nbformat": 4,
 "nbformat_minor": 2
}
