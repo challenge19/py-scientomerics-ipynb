{
 "cells": [
  {
   "cell_type": "markdown",
   "metadata": {},
   "source": [
    "Crossref使用示例\n",
    "==="
   ]
  },
  {
   "cell_type": "markdown",
   "metadata": {},
   "source": [
    "## Crossref REST API"
   ]
  },
  {
   "cell_type": "markdown",
   "metadata": {},
   "source": [
    "### 通过Crossref批量获取文献全文\n",
    "\n"
   ]
  },
  {
   "cell_type": "code",
   "execution_count": 8,
   "metadata": {},
   "outputs": [
    {
     "name": "stdout",
     "output_type": "stream",
     "text": [
      "<Response [200]>\n"
     ]
    }
   ],
   "source": [
    "import requests\n",
    "headers = {'Accept': 'application/vnd.crossref.unixsd+xml'}\n",
    "r = requests.get('http://dx.doi.org/10.1016/j.fbr.2012.01.001', headers=headers)\n",
    "print(r)"
   ]
  },
  {
   "cell_type": "code",
   "execution_count": 9,
   "metadata": {},
   "outputs": [
    {
     "data": {
      "text/plain": [
       "'<?xml version=\"1.0\" encoding=\"UTF-8\"?>\\n<crossref_result xmlns=\"http://www.crossref.org/qrschema/3.0\" version=\"3.0\" xmlns:xsi=\"http://www.w3.org/2001/XMLSchema-instance\" xsi:schemaLocation=\"http://www.crossref.org/qrschema/3.0 http://www.crossref.org/schemas/crossref_query_output3.0.xsd\">\\r\\n  <query_result>\\r\\n    <head>\\r\\n      <doi_batch_id>none</doi_batch_id>\\r\\n    </head>\\r\\n    <body>\\r\\n      <query status=\"resolved\">\\r\\n        <doi type=\"journal_article\">10.1016/j.fbr.2012.01.001</doi>\\r\\n        <crm-item name=\"publisher-name\" type=\"string\">Elsevier BV</crm-item>\\r\\n        <crm-item name=\"prefix-name\" type=\"string\">Elsevier</crm-item>\\r\\n        <crm-item name=\"member-id\" type=\"number\">78</crm-item>\\r\\n        <crm-item name=\"citation-id\" type=\"number\">54744124</crm-item>\\r\\n        <crm-item name=\"journal-id\" type=\"number\">65243</crm-item>\\r\\n        <crm-item name=\"deposit-timestamp\" type=\"number\">20120407083357000</crm-item>\\r\\n        <crm-item name=\"owner-prefix\" type=\"string\">10.1016</crm-item>\\r\\n        <crm-item name=\"last-update\" type=\"date\">2017-06-20T16:22:34Z</crm-item>\\r\\n        <crm-item name=\"created\" type=\"date\">2012-03-30T15:21:47Z</crm-item>\\r\\n        <crm-item name=\"citedby-count\" type=\"number\">108</crm-item>\\r\\n        <doi_record>\\r\\n          <crossref xmlns=\"http://www.crossref.org/xschema/1.1\" xsi:schemaLocation=\"http://www.crossref.org/xschema/1.1 http://doi.crossref.org/schemas/unixref1.1.xsd\">\\r\\n            <journal>\\r\\n              <journal_metadata language=\"en\">\\r\\n                <full_title>Fungal Biology Reviews</full_title>\\r\\n                <abbrev_title>Fungal Biology Reviews</abbrev_title>\\r\\n                <issn media_type=\"print\">17494613</issn>\\r\\n              </journal_metadata>\\r\\n              <journal_issue>\\r\\n                <publication_date media_type=\"print\">\\r\\n                  <month>4</month>\\r\\n                  <year>2012</year>\\r\\n                </publication_date>\\r\\n                <journal_volume>\\r\\n                  <volume>26</volume>\\r\\n                </journal_volume>\\r\\n                <issue>1</issue>\\r\\n              </journal_issue>\\r\\n              <journal_article publication_type=\"full_text\">\\r\\n                <titles>\\r\\n                  <title>Mycorrhizal networks: Mechanisms, ecology and modelling</title>\\r\\n                </titles>\\r\\n                <contributors>\\r\\n                  <person_name contributor_role=\"author\" sequence=\"first\">\\r\\n                    <given_name>Suzanne W.</given_name>\\r\\n                    <surname>Simard</surname>\\r\\n                  </person_name>\\r\\n                  <person_name contributor_role=\"author\" sequence=\"additional\">\\r\\n                    <given_name>Kevin J.</given_name>\\r\\n                    <surname>Beiler</surname>\\r\\n                  </person_name>\\r\\n                  <person_name contributor_role=\"author\" sequence=\"additional\">\\r\\n                    <given_name>Marcus A.</given_name>\\r\\n                    <surname>Bingham</surname>\\r\\n                  </person_name>\\r\\n                  <person_name contributor_role=\"author\" sequence=\"additional\">\\r\\n                    <given_name>Julie R.</given_name>\\r\\n                    <surname>Deslippe</surname>\\r\\n                  </person_name>\\r\\n                  <person_name contributor_role=\"author\" sequence=\"additional\">\\r\\n                    <given_name>Leanne J.</given_name>\\r\\n                    <surname>Philip</surname>\\r\\n                  </person_name>\\r\\n                  <person_name contributor_role=\"author\" sequence=\"additional\">\\r\\n                    <given_name>FranÃ§ois P.</given_name>\\r\\n                    <surname>Teste</surname>\\r\\n                  </person_name>\\r\\n                </contributors>\\r\\n                <publication_date media_type=\"print\">\\r\\n                  <month>4</month>\\r\\n                  <year>2012</year>\\r\\n                </publication_date>\\r\\n                <pages>\\r\\n                  <first_page>39</first_page>\\r\\n                  <last_page>60</last_page>\\r\\n                </pages>\\r\\n                <publisher_item>\\r\\n                  <item_number item_number_type=\"sequence-number\">S1749461312000048</item_number>\\r\\n                  <identifier id_type=\"pii\">S1749461312000048</identifier>\\r\\n                </publisher_item>\\r\\n                <ai:program xmlns:ai=\"http://www.crossref.org/AccessIndicators.xsd\" name=\"AccessIndicators\">\\r\\n                  <ai:license_ref applies_to=\"tdm\">http://www.elsevier.com/tdm/userlicense/1.0/</ai:license_ref>\\r\\n                </ai:program>\\r\\n                <doi_data>\\r\\n                  <doi>10.1016/j.fbr.2012.01.001</doi>\\r\\n                  <resource>http://linkinghub.elsevier.com/retrieve/pii/S1749461312000048</resource>\\r\\n                  <collection property=\"text-mining\">\\r\\n                    <item>\\r\\n                      <resource mime_type=\"text/xml\">http://api.elsevier.com/content/article/PII:S1749461312000048?httpAccept=text/xml</resource>\\r\\n                    </item>\\r\\n                    <item>\\r\\n                      <resource mime_type=\"text/plain\">http://api.elsevier.com/content/article/PII:S1749461312000048?httpAccept=text/plain</resource>\\r\\n                    </item>\\r\\n                  </collection>\\r\\n                </doi_data>\\r\\n              </journal_article>\\r\\n            </journal>\\r\\n          </crossref>\\r\\n        </doi_record>\\r\\n      </query>\\r\\n    </body>\\r\\n  </query_result>\\r\\n</crossref_result>'"
      ]
     },
     "execution_count": 9,
     "metadata": {},
     "output_type": "execute_result"
    }
   ],
   "source": [
    "r.text"
   ]
  },
  {
   "cell_type": "markdown",
   "metadata": {},
   "source": [
    "## Crossref REST api 封装包\n",
    "除了直接使用api，我们还可以使用为Crossref REST API编写的几个优秀的程序包\n",
    "\n",
    "- [habanero](https://github.com/sckott/habanero)\n",
    "- [crossrefapi](https://github.com/fabiobatalha/crossrefapi)\n",
    "\n",
    "\n",
    "### habanero的简单使用"
   ]
  },
  {
   "cell_type": "code",
   "execution_count": 1,
   "metadata": {},
   "outputs": [],
   "source": [
    "from habanero import cn"
   ]
  },
  {
   "cell_type": "code",
   "execution_count": 5,
   "metadata": {},
   "outputs": [
    {
     "data": {
      "text/plain": [
       "'{\"indexed\":{\"date-parts\":[[2018,5,3]],\"date-time\":\"2018-05-03T04:41:46Z\",\"timestamp\":1525322506538},\"reference-count\":0,\"publisher\":\"American Association for the Advancement of Science (AAAS)\",\"issue\":\"3946\",\"content-domain\":{\"domain\":[],\"crossmark-restriction\":false},\"published-print\":{\"date-parts\":[[1970,8,14]]},\"DOI\":\"10.1126\\\\/science.169.3946.635\",\"type\":\"article-journal\",\"created\":{\"date-parts\":[[2006,10,5]],\"date-time\":\"2006-10-05T12:56:56Z\",\"timestamp\":1160053016000},\"page\":\"635-641\",\"source\":\"Crossref\",\"is-referenced-by-count\":56,\"title\":\"The Structure of Ordinary Water: New data and interpretations are yielding new insights into this fascinating substance\",\"prefix\":\"10.1126\",\"volume\":\"169\",\"author\":[{\"given\":\"H. S.\",\"family\":\"Frank\",\"sequence\":\"first\",\"affiliation\":[]}],\"member\":\"221\",\"container-title\":\"Science\",\"original-title\":[],\"language\":\"en\",\"link\":[{\"URL\":\"https:\\\\/\\\\/syndication.highwire.org\\\\/content\\\\/doi\\\\/10.1126\\\\/science.169.3946.635\",\"content-type\":\"unspecified\",\"content-version\":\"vor\",\"intended-application\":\"similarity-checking\"}],\"deposited\":{\"date-parts\":[[2016,12,23]],\"date-time\":\"2016-12-23T19:54:07Z\",\"timestamp\":1482522847000},\"score\":1.0,\"subtitle\":[],\"short-title\":[],\"issued\":{\"date-parts\":[[1970,8,14]]},\"references-count\":0,\"journal-issue\":{\"published-print\":{\"date-parts\":[[1970,8,14]]},\"issue\":\"3946\"},\"URL\":\"http:\\\\/\\\\/dx.doi.org\\\\/10.1126\\\\/science.169.3946.635\",\"relation\":{},\"ISSN\":[\"0036-8075\",\"1095-9203\"],\"container-title-short\":\"Science\"}'"
      ]
     },
     "execution_count": 5,
     "metadata": {},
     "output_type": "execute_result"
    }
   ],
   "source": [
    "cn.content_negotiation(ids = '10.1126/science.169.3946.635',format=\"citeproc-json\")"
   ]
  },
  {
   "cell_type": "code",
   "execution_count": null,
   "metadata": {},
   "outputs": [],
   "source": []
  }
 ],
 "metadata": {
  "kernelspec": {
   "display_name": "Python 3",
   "language": "python",
   "name": "python3"
  },
  "language_info": {
   "codemirror_mode": {
    "name": "ipython",
    "version": 3
   },
   "file_extension": ".py",
   "mimetype": "text/x-python",
   "name": "python",
   "nbconvert_exporter": "python",
   "pygments_lexer": "ipython3",
   "version": "3.6.4"
  },
  "toc": {
   "base_numbering": 1,
   "nav_menu": {},
   "number_sections": true,
   "sideBar": true,
   "skip_h1_title": true,
   "title_cell": "Table of Contents",
   "title_sidebar": "Contents",
   "toc_cell": false,
   "toc_position": {},
   "toc_section_display": true,
   "toc_window_display": true
  }
 },
 "nbformat": 4,
 "nbformat_minor": 2
}
