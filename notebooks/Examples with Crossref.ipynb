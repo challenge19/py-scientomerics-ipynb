{
 "cells": [
  {
   "cell_type": "markdown",
   "metadata": {},
   "source": [
    "Crossref使用示例\n",
    "==="
   ]
  },
  {
   "cell_type": "markdown",
   "metadata": {},
   "source": [
    "### 通过Crossref批量获取文献全文\n",
    "\n"
   ]
  },
  {
   "cell_type": "code",
   "execution_count": 3,
   "metadata": {},
   "outputs": [
    {
     "name": "stdout",
     "output_type": "stream",
     "text": [
      "<Response [200]>\n"
     ]
    }
   ],
   "source": [
    "import requests\n",
    "headers = {'Accept': 'application/vnd.crossref.unixsd+xml'}\n",
    "r = requests.get('http://dx.doi.org/10.5555/515151', headers=headers)\n",
    "print(r)"
   ]
  },
  {
   "cell_type": "code",
   "execution_count": 6,
   "metadata": {},
   "outputs": [
    {
     "data": {
      "text/plain": [
       "'<?xml version=\"1.0\" encoding=\"UTF-8\"?>\\n<crossref_result xmlns=\"http://www.crossref.org/qrschema/3.0\" version=\"3.0\" xmlns:xsi=\"http://www.w3.org/2001/XMLSchema-instance\" xsi:schemaLocation=\"http://www.crossref.org/qrschema/3.0 http://www.crossref.org/schemas/crossref_query_output3.0.xsd\">\\r\\n  <query_result>\\r\\n    <head>\\r\\n      <doi_batch_id>none</doi_batch_id>\\r\\n    </head>\\r\\n    <body>\\r\\n      <query status=\"resolved\">\\r\\n        <doi type=\"journal_article\">10.5555/515151</doi>\\r\\n        <crm-item name=\"publisher-name\" type=\"string\">Test accounts</crm-item>\\r\\n        <crm-item name=\"member-id\" type=\"number\">7822</crm-item>\\r\\n        <crm-item name=\"citation-id\" type=\"number\">61425744</crm-item>\\r\\n        <crm-item name=\"journal-id\" type=\"number\">209225</crm-item>\\r\\n        <crm-item name=\"deposit-timestamp\" type=\"number\">20130220090029</crm-item>\\r\\n        <crm-item name=\"owner-prefix\" type=\"string\">10.5555</crm-item>\\r\\n        <crm-item name=\"last-update\" type=\"date\">2018-05-18T13:22:21Z</crm-item>\\r\\n        <crm-item name=\"created\" type=\"date\">2013-04-02T10:33:26Z</crm-item>\\r\\n        <crm-item name=\"citedby-count\" type=\"number\">0</crm-item>\\r\\n        <doi_record>\\r\\n          <crossref xmlns=\"http://www.crossref.org/xschema/1.1\" xsi:schemaLocation=\"http://www.crossref.org/xschema/1.1 http://doi.crossref.org/schemas/unixref1.1.xsd\">\\r\\n            <journal>\\r\\n              <journal_metadata language=\"en\">\\r\\n                <full_title>Annals of Psychoceramics B</full_title>\\r\\n                <abbrev_title>Annals Psychoceramics B</abbrev_title>\\r\\n                <issn media_type=\"print\">5555-5152</issn>\\r\\n                <issn media_type=\"electronic\">5555-6167</issn>\\r\\n              </journal_metadata>\\r\\n              <journal_issue>\\r\\n                <publication_date media_type=\"print\">\\r\\n                  <year>2013</year>\\r\\n                </publication_date>\\r\\n                <journal_volume>\\r\\n                  <volume>2013</volume>\\r\\n                </journal_volume>\\r\\n              </journal_issue>\\r\\n              <journal_article publication_type=\"full_text\">\\r\\n                <titles>\\r\\n                  <title>The Global State of Psychoceramics Research</title>\\r\\n                </titles>\\r\\n                <contributors>\\r\\n                  <person_name sequence=\"first\" contributor_role=\"author\">\\r\\n                    <given_name>Josiah</given_name>\\r\\n                    <surname>Carberry</surname>\\r\\n                    <ORCID authenticated=\"true\">http://orcid.org/0000-0002-1825-0097</ORCID>\\r\\n                  </person_name>\\r\\n                </contributors>\\r\\n                <publication_date media_type=\"print\">\\r\\n                  <month>2</month>\\r\\n                  <day>3</day>\\r\\n                  <year>2013</year>\\r\\n                </publication_date>\\r\\n                <pages>\\r\\n                  <first_page>1</first_page>\\r\\n                  <last_page>8</last_page>\\r\\n                </pages>\\r\\n                <publisher_item>\\r\\n                  <identifier id_type=\"pii\">515151</identifier>\\r\\n                  <identifier id_type=\"other\">515151</identifier>\\r\\n                </publisher_item>\\r\\n                <crossmark>\\r\\n                  <crossmark_version>1</crossmark_version>\\r\\n                  <crossmark_policy>10.5555/crossmark_policy</crossmark_policy>\\r\\n                  <crossmark_domains>\\r\\n                    <crossmark_domain>\\r\\n                      <domain>annalsofpsychoceramics.labs.crossref.org</domain>\\r\\n                    </crossmark_domain>\\r\\n                  </crossmark_domains>\\r\\n                  <crossmark_domain_exclusive>true</crossmark_domain_exclusive>\\r\\n                  <custom_metadata>\\r\\n                    <assertion name=\"orcid\" label=\"ORCID\" group_name=\"identifiers\" group_label=\"Identifiers\" order=\"0\" href=\"http://orcid.org/0000-0002-1825-0097\">http://orcid.org/0000-0002-1825-0097</assertion>\\r\\n                    <assertion name=\"received\" label=\"Received\" group_name=\"publication_history\" group_label=\"Publication History\" order=\"0\">2013-02-01</assertion>\\r\\n                    <assertion name=\"reviewed\" label=\"Reviewed\" group_name=\"publication_history\" group_label=\"Publication History\" order=\"2\">2013-02-01</assertion>\\r\\n                    <assertion name=\"accepted\" label=\"Accepted\" group_name=\"publication_history\" group_label=\"Publication History\" order=\"1\">2013-02-02</assertion>\\r\\n                    <assertion name=\"published\" label=\"Published\" group_name=\"publication_history\" group_label=\"Publication History\" order=\"2\">2013-02-03</assertion>\\r\\n                    <fr:program xmlns:fr=\"http://www.crossref.org/fundref.xsd\" name=\"fundref\">\\r\\n                      <fr:assertion name=\"fundgroup\">\\r\\n                        <fr:assertion name=\"funder_name\">\\r\\n                          National Science Foundation\\r\\n                          <fr:assertion name=\"funder_identifier\">http://dx.doi.org/10.13039/</fr:assertion>\\r\\n                        </fr:assertion>\\r\\n                        <fr:assertion name=\"award_number\">psychoceramics-1152342</fr:assertion>\\r\\n                      </fr:assertion>\\r\\n                      <fr:assertion name=\"fundgroup\">\\r\\n                        <fr:assertion name=\"funder_name\">\\r\\n                          Basic Energy Sciences, Office of Science, U.S. Department of Energy\\r\\n                          <fr:assertion name=\"funder_identifier\">http://dx.doi.org/10.13039/</fr:assertion>\\r\\n                        </fr:assertion>\\r\\n                        <fr:assertion name=\"award_number\">high-energy-metaphysics-SC0001091</fr:assertion>\\r\\n                      </fr:assertion>\\r\\n                    </fr:program>\\r\\n                    <ai:program xmlns:ai=\"http://www.crossref.org/AccessIndicators.xsd\" name=\"AccessIndicators\">\\r\\n                      <ai:license_ref start_date=\"2013-02-03\">http://www.crossref.org/license</ai:license_ref>\\r\\n                    </ai:program>\\r\\n                    <ai:program xmlns:ai=\"http://www.crossref.org/AccessIndicators.xsd\" name=\"AccessIndicators\">\\r\\n                      <ai:license_ref start_date=\"2014-02-03\">http://creativecommons.org/licenses/by/3.0/deed.en_US</ai:license_ref>\\r\\n                    </ai:program>\\r\\n                  </custom_metadata>\\r\\n                </crossmark>\\r\\n                <doi_data>\\r\\n                  <doi>10.5555/515151</doi>\\r\\n                  <timestamp>20130220090029</timestamp>\\r\\n                  <resource>http://annalsofpsychoceramics.labs.crossref.org/abstract/515151/</resource>\\r\\n                  <collection property=\"crawler-based\" setbyID=\"creftest\">\\r\\n                    <item crawler=\"google\">\\r\\n                      <resource>http://annalsofpsychoceramics.labs.crossref.org/fulltext/515151/515151.pdf</resource>\\r\\n                    </item>\\r\\n                    <item crawler=\"msn\">\\r\\n                      <resource>http://annalsofpsychoceramics.labs.crossref.org/fulltext/515151/515151.pdf</resource>\\r\\n                    </item>\\r\\n                    <item crawler=\"altavista\">\\r\\n                      <resource>http://annalsofpsychoceramics.labs.crossref.org/fulltext/515151/515151.pdf</resource>\\r\\n                    </item>\\r\\n                    <item crawler=\"yahoo\">\\r\\n                      <resource>http://annalsofpsychoceramics.labs.crossref.org/fulltext/515151/515151.pdf</resource>\\r\\n                    </item>\\r\\n                    <item crawler=\"scirus\">\\r\\n                      <resource>http://annalsofpsychoceramics.labs.crossref.org/fulltext/515151/515151.pdf</resource>\\r\\n                    </item>\\r\\n                  </collection>\\r\\n                  <collection property=\"text-mining\" setbyID=\"creftest\">\\r\\n                    <item>\\r\\n                      <resource mime_type=\"application/pdf\">http://annalsofpsychoceramics.labs.crossref.org/fulltext/10.5555/515151.pdf</resource>\\r\\n                    </item>\\r\\n                    <item>\\r\\n                      <resource mime_type=\"application/xml\">http://annalsofpsychoceramics.labs.crossref.org/fulltext/10.5555/515151.xml</resource>\\r\\n                    </item>\\r\\n                  </collection>\\r\\n                </doi_data>\\r\\n              </journal_article>\\r\\n            </journal>\\r\\n          </crossref>\\r\\n        </doi_record>\\r\\n      </query>\\r\\n    </body>\\r\\n  </query_result>\\r\\n</crossref_result>'"
      ]
     },
     "execution_count": 6,
     "metadata": {},
     "output_type": "execute_result"
    }
   ],
   "source": [
    "r.text"
   ]
  },
  {
   "cell_type": "code",
   "execution_count": null,
   "metadata": {},
   "outputs": [],
   "source": []
  }
 ],
 "metadata": {
  "kernelspec": {
   "display_name": "Python 3",
   "language": "python",
   "name": "python3"
  },
  "language_info": {
   "codemirror_mode": {
    "name": "ipython",
    "version": 3
   },
   "file_extension": ".py",
   "mimetype": "text/x-python",
   "name": "python",
   "nbconvert_exporter": "python",
   "pygments_lexer": "ipython3",
   "version": "3.6.4"
  },
  "toc": {
   "base_numbering": 1,
   "nav_menu": {},
   "number_sections": true,
   "sideBar": true,
   "skip_h1_title": true,
   "title_cell": "Table of Contents",
   "title_sidebar": "Contents",
   "toc_cell": false,
   "toc_position": {},
   "toc_section_display": true,
   "toc_window_display": true
  }
 },
 "nbformat": 4,
 "nbformat_minor": 2
}
